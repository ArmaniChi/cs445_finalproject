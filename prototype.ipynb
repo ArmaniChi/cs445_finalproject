{
 "cells": [
  {
   "attachments": {},
   "cell_type": "markdown",
   "metadata": {},
   "source": [
    "# Prototyping all of our functions in this notebook"
   ]
  },
  {
   "cell_type": "code",
   "execution_count": null,
   "metadata": {},
   "outputs": [],
   "source": [
    "import numpy as np\n",
    "import cv2\n",
    "import matplotlib.pyplot as plt\n",
    "import os\n",
    "import importlib"
   ]
  },
  {
   "cell_type": "code",
   "execution_count": null,
   "metadata": {},
   "outputs": [],
   "source": [
    "datadir = \"images\""
   ]
  },
  {
   "cell_type": "code",
   "execution_count": null,
   "metadata": {},
   "outputs": [],
   "source": [
    "# first time only\n",
    "# load all images in the images directory\n",
    "images = []\n",
    "for filename in os.listdir(datadir):\n",
    "    img = cv2.imread(os.path.join(datadir, filename))\n",
    "    if img is not None:\n",
    "        images.append(img)\n",
    "\n",
    "# store as npz file\n",
    "np.savez_compressed(\"images.npz\", images)"
   ]
  },
  {
   "cell_type": "code",
   "execution_count": null,
   "metadata": {},
   "outputs": [],
   "source": [
    "# all other times\n",
    "images = np.load(\"images.npz\")[\"arr_0\"]"
   ]
  },
  {
   "attachments": {},
   "cell_type": "markdown",
   "metadata": {},
   "source": [
    "# Color transfer (E. Reinhard)\n",
    "(Rule based: level 1)"
   ]
  },
  {
   "cell_type": "code",
   "execution_count": null,
   "metadata": {},
   "outputs": [],
   "source": []
  },
  {
   "attachments": {},
   "cell_type": "markdown",
   "metadata": {},
   "source": [
    "# LAB color transfer\n"
   ]
  },
  {
   "cell_type": "code",
   "execution_count": null,
   "metadata": {},
   "outputs": [],
   "source": [
    "import lab_colour_transfer\n",
    "importlib.reload(lab_colour_transfer)\n",
    "from lab_colour_transfer import color_transfer_lab_mean\n",
    "\n",
    "# test colour transfer"
   ]
  },
  {
   "attachments": {},
   "cell_type": "markdown",
   "metadata": {},
   "source": [
    "# Color Transfer via Sigmoidal Contrast Enhancement\n",
    "(Rule based: level 2)"
   ]
  },
  {
   "cell_type": "code",
   "execution_count": null,
   "metadata": {},
   "outputs": [],
   "source": [
    "# arm's chair"
   ]
  },
  {
   "attachments": {},
   "cell_type": "markdown",
   "metadata": {},
   "source": [
    "# Photorealistic Image Stylization \n",
    "(Rule based: level 3)\n"
   ]
  },
  {
   "cell_type": "code",
   "execution_count": null,
   "metadata": {},
   "outputs": [],
   "source": [
    "# aku's"
   ]
  },
  {
   "attachments": {},
   "cell_type": "markdown",
   "metadata": {},
   "source": [
    "# Deep colour transfer\n",
    "(Learning based)\n",
    "\n",
    "## Potential approaches\n",
    "- [Deep Color Transfer using Histogram Analogy](https://github.com/codeslake/Color_Transfer_Histogram_Analogy)\n",
    "- [HistoGan: Controlling Colors of GAN-Generated and Real Images via Color Histograms](https://github.com/mahmoudnafifi/HistoGAN)\n"
   ]
  },
  {
   "cell_type": "code",
   "execution_count": 5,
   "metadata": {},
   "outputs": [],
   "source": [
    "import importlib, deep_colour_transfer"
   ]
  },
  {
   "cell_type": "code",
   "execution_count": 6,
   "metadata": {},
   "outputs": [
    {
     "data": {
      "text/plain": [
       "<module 'deep_colour_transfer' from '/Users/aarohigupta/Desktop/uni/cs445/cs445_finalproject/deep_colour_transfer.py'>"
      ]
     },
     "execution_count": 6,
     "metadata": {},
     "output_type": "execute_result"
    }
   ],
   "source": [
    "# use importlib to reload final_versions/deep_color_transfer.py\n",
    "importlib.reload(deep_colour_transfer)"
   ]
  }
 ],
 "metadata": {
  "kernelspec": {
   "display_name": "Python 3",
   "language": "python",
   "name": "python3"
  },
  "language_info": {
   "codemirror_mode": {
    "name": "ipython",
    "version": 3
   },
   "file_extension": ".py",
   "mimetype": "text/x-python",
   "name": "python",
   "nbconvert_exporter": "python",
   "pygments_lexer": "ipython3",
   "version": "3.8.4"
  },
  "orig_nbformat": 4
 },
 "nbformat": 4,
 "nbformat_minor": 2
}
